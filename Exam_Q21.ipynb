{
 "cells": [
  {
   "cell_type": "code",
   "execution_count": null,
   "id": "18e6dcde",
   "metadata": {},
   "outputs": [],
   "source": [
    "# Question21"
   ]
  },
  {
   "cell_type": "code",
   "execution_count": 1,
   "id": "50ab0bf3",
   "metadata": {},
   "outputs": [
    {
     "name": "stdout",
     "output_type": "stream",
     "text": [
      "Qpubup\n",
      "K nqxg DFCV!\n"
     ]
    }
   ],
   "source": [
    "def caesar(phrase, shift):\n",
    "    def shift_char(char):\n",
    "        if char.isalpha():\n",
    "            base = ord('A') if char.isupper() else ord('a')\n",
    "            return chr((ord(char) - base + shift) % 26 + base)\n",
    "        else:\n",
    "            return char\n",
    "\n",
    "    if not phrase:\n",
    "        return \"\"\n",
    "    else:\n",
    "        return shift_char(phrase[0]) + caesar(phrase[1:], shift)\n",
    "\n",
    "print(caesar(\"Potato\", 1))\n",
    "print(caesar(\"I love BDAT!\", 2))"
   ]
  },
  {
   "cell_type": "code",
   "execution_count": null,
   "id": "5179fd73",
   "metadata": {},
   "outputs": [],
   "source": []
  }
 ],
 "metadata": {
  "kernelspec": {
   "display_name": "Python 3 (ipykernel)",
   "language": "python",
   "name": "python3"
  },
  "language_info": {
   "codemirror_mode": {
    "name": "ipython",
    "version": 3
   },
   "file_extension": ".py",
   "mimetype": "text/x-python",
   "name": "python",
   "nbconvert_exporter": "python",
   "pygments_lexer": "ipython3",
   "version": "3.11.5"
  }
 },
 "nbformat": 4,
 "nbformat_minor": 5
}
